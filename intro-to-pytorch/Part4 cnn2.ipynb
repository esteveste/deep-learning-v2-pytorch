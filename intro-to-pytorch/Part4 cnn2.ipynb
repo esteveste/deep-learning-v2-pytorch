{
 "cells": [
  {
   "cell_type": "markdown",
   "metadata": {},
   "source": [
    "# Classifying Fashion-MNIST\n",
    "\n",
    "Now it's your turn to build and train a neural network. You'll be using the [Fashion-MNIST dataset](https://github.com/zalandoresearch/fashion-mnist), a drop-in replacement for the MNIST dataset. MNIST is actually quite trivial with neural networks where you can easily achieve better than 97% accuracy. Fashion-MNIST is a set of 28x28 greyscale images of clothes. It's more complex than MNIST, so it's a better representation of the actual performance of your network, and a better representation of datasets you'll use in the real world.\n",
    "\n",
    "<img src='assets/fashion-mnist-sprite.png' width=500px>\n",
    "\n",
    "In this notebook, you'll build your own neural network. For the most part, you could just copy and paste the code from Part 3, but you wouldn't be learning. It's important for you to write the code yourself and get it to work. Feel free to consult the previous notebooks though as you work through this.\n",
    "\n",
    "First off, let's load the dataset through torchvision."
   ]
  },
  {
   "cell_type": "code",
   "execution_count": 1,
   "metadata": {},
   "outputs": [],
   "source": [
    "import torch\n",
    "from torchvision import datasets, transforms\n",
    "import helper\n",
    "\n",
    "# Define a transform to normalize the data\n",
    "transform = transforms.Compose([transforms.ToTensor(),\n",
    "                                transforms.Normalize((0.5, 0.5, 0.5), (0.5, 0.5, 0.5))])\n",
    "# Download and load the training data\n",
    "trainset = datasets.FashionMNIST('~/.pytorch/F_MNIST_data/', download=True, train=True, transform=transform)\n",
    "trainloader = torch.utils.data.DataLoader(trainset, batch_size=64, shuffle=True)\n",
    "\n",
    "# Download and load the test data\n",
    "testset = datasets.FashionMNIST('~/.pytorch/F_MNIST_data/', download=True, train=False, transform=transform)\n",
    "testloader = torch.utils.data.DataLoader(testset, batch_size=64, shuffle=True)"
   ]
  },
  {
   "cell_type": "code",
   "execution_count": 6,
   "metadata": {},
   "outputs": [],
   "source": [
    "device = torch.device('cuda:0' if torch.cuda.is_available() else 'cpu')"
   ]
  },
  {
   "cell_type": "code",
   "execution_count": 7,
   "metadata": {},
   "outputs": [
    {
     "data": {
      "text/plain": [
       "device(type='cuda', index=0)"
      ]
     },
     "execution_count": 7,
     "metadata": {},
     "output_type": "execute_result"
    }
   ],
   "source": [
    "device"
   ]
  },
  {
   "cell_type": "markdown",
   "metadata": {},
   "source": [
    "Here we can see one of the images."
   ]
  },
  {
   "cell_type": "code",
   "execution_count": 2,
   "metadata": {},
   "outputs": [
    {
     "data": {
      "image/png": "[encoded data removed]",
      "text/plain": [
       "<Figure size 432x288 with 1 Axes>"
      ]
     },
     "metadata": {
      "needs_background": "light"
     },
     "output_type": "display_data"
    }
   ],
   "source": [
    "image, label = next(iter(trainloader))\n",
    "helper.imshow(image[0,:]);"
   ]
  },
  {
   "cell_type": "markdown",
   "metadata": {},
   "source": [
    "## Building the network\n",
    "\n",
    "Here you should define your network. As with MNIST, each image is 28x28 which is a total of 784 pixels, and there are 10 classes. You should include at least one hidden layer. We suggest you use ReLU activations for the layers and to return the logits or log-softmax from the forward pass. It's up to you how many layers you add and the size of those layers."
   ]
  },
  {
   "cell_type": "code",
   "execution_count": 8,
   "metadata": {},
   "outputs": [],
   "source": [
    "# TODO: Define your network architecture here\n",
    "# model = torch.nn.Sequential(torch.nn.Conv2d(1,32,(2,2),stride=2),\n",
    "#                            torch.nn.ReLU(),\n",
    "#                            torch.nn.Conv2d(32,64,(4,4),stride=2),\n",
    "#                            torch.nn.ReLU(),\n",
    "#                             torch.nn.Res\n",
    "#                            torch.nn.Linear(64*6*6,10),\n",
    "#                            torch.nn.LogSoftmax())\n",
    "\n",
    "class CNN(torch.nn.Module):\n",
    "    def __init__(self):\n",
    "        super().__init__()\n",
    "        self.c1=torch.nn.Conv2d(1,32,(2,2),stride=2)\n",
    "        self.c2=torch.nn.Conv2d(32,64,(4,4),stride=2)\n",
    "        self.c3=torch.nn.Conv2d(64,128,(4,4),stride=2)\n",
    "        self.fc1=torch.nn.Linear(128*2*2,10)\n",
    "        \n",
    "    def forward(self,x):\n",
    "\n",
    "        x=self.c1(x)\n",
    "        x=torch.nn.ReLU()(x)\n",
    "        x=self.c2(x)\n",
    "        x=torch.nn.ReLU()(x)\n",
    "        x=self.c3(x)\n",
    "        x=torch.nn.ReLU()(x)\n",
    "        x=x.view(x.shape[0],-1)\n",
    "        x=self.fc1(x)\n",
    "        return torch.nn.LogSoftmax(dim=1)(x)\n",
    "        \n",
    "model=CNN().to(device)\n",
    "\n",
    "# model = torch.nn.Sequential(torch.nn.Linear(784,196),\n",
    "#                            torch.nn.ReLU(),\n",
    "#                            torch.nn.Linear(196,10),\n",
    "#                            torch.nn.LogSoftmax(dim=1))\n",
    "\n"
   ]
  },
  {
   "cell_type": "markdown",
   "metadata": {},
   "source": [
    "# Train the network\n",
    "\n",
    "Now you should create your network and train it. First you'll want to define [the criterion](http://pytorch.org/docs/master/nn.html#loss-functions) ( something like `nn.CrossEntropyLoss`) and [the optimizer](http://pytorch.org/docs/master/optim.html) (typically `optim.SGD` or `optim.Adam`).\n",
    "\n",
    "Then write the training code. Remember the training pass is a fairly straightforward process:\n",
    "\n",
    "* Make a forward pass through the network to get the logits \n",
    "* Use the logits to calculate the loss\n",
    "* Perform a backward pass through the network with `loss.backward()` to calculate the gradients\n",
    "* Take a step with the optimizer to update the weights\n",
    "\n",
    "By adjusting the hyperparameters (hidden units, learning rate, etc), you should be able to get the training loss below 0.4."
   ]
  },
  {
   "cell_type": "code",
   "execution_count": 20,
   "metadata": {},
   "outputs": [],
   "source": [
    "# TODO: Create the network, define the criterion and optimizer\n",
    "criterion = torch.nn.NLLLoss().to(device)\n",
    "optimizer = torch.optim.Adam(model.parameters())\n"
   ]
  },
  {
   "cell_type": "code",
   "execution_count": 17,
   "metadata": {},
   "outputs": [
    {
     "data": {
      "text/plain": [
       "tensor([[-2.2434, -2.3635, -2.2826, -2.3259, -2.3030, -2.3331, -2.2826, -2.3347,\n",
       "         -2.2567, -2.3066],\n",
       "        [-2.2116, -2.3575, -2.3145, -2.3100, -2.3095, -2.3301, -2.2652, -2.3269,\n",
       "         -2.2856, -2.3226],\n",
       "        [-2.2375, -2.3712, -2.3141, -2.2993, -2.2619, -2.3232, -2.2873, -2.3513,\n",
       "         -2.2912, -2.2957],\n",
       "        [-2.2544, -2.3459, -2.3109, -2.3059, -2.2709, -2.3459, -2.2796, -2.3260,\n",
       "         -2.2700, -2.3213],\n",
       "        [-2.2125, -2.3651, -2.3095, -2.3256, -2.2828, -2.3245, -2.2889, -2.3051,\n",
       "         -2.2572, -2.3645],\n",
       "        [-2.2334, -2.3335, -2.3020, -2.3050, -2.2900, -2.3185, -2.2956, -2.3480,\n",
       "         -2.2959, -2.3080],\n",
       "        [-2.2348, -2.3358, -2.2934, -2.3134, -2.2875, -2.3222, -2.3005, -2.3309,\n",
       "         -2.2872, -2.3243],\n",
       "        [-2.2218, -2.3363, -2.3058, -2.3199, -2.2885, -2.3323, -2.2863, -2.3397,\n",
       "         -2.2798, -2.3213],\n",
       "        [-2.2205, -2.3528, -2.3210, -2.3220, -2.3006, -2.3370, -2.2584, -2.3190,\n",
       "         -2.2837, -2.3178],\n",
       "        [-2.2162, -2.3245, -2.3214, -2.3104, -2.2996, -2.3329, -2.2859, -2.3155,\n",
       "         -2.2900, -2.3348],\n",
       "        [-2.2144, -2.3422, -2.3349, -2.3045, -2.2968, -2.3620, -2.2608, -2.3199,\n",
       "         -2.2689, -2.3305],\n",
       "        [-2.2537, -2.3104, -2.3519, -2.3088, -2.2575, -2.3383, -2.2959, -2.3263,\n",
       "         -2.2774, -2.3105],\n",
       "        [-2.2310, -2.3337, -2.3149, -2.3021, -2.2988, -2.3466, -2.2762, -2.3361,\n",
       "         -2.2888, -2.3029],\n",
       "        [-2.2324, -2.3425, -2.3240, -2.2937, -2.3039, -2.3309, -2.2841, -2.3250,\n",
       "         -2.2992, -2.2947],\n",
       "        [-2.2497, -2.3405, -2.3088, -2.2989, -2.2842, -2.3324, -2.2657, -2.3456,\n",
       "         -2.2891, -2.3154],\n",
       "        [-2.2513, -2.3537, -2.3071, -2.3289, -2.2878, -2.3296, -2.2642, -2.3292,\n",
       "         -2.2473, -2.3333],\n",
       "        [-2.2353, -2.3326, -2.3063, -2.3101, -2.2980, -2.3192, -2.2936, -2.3443,\n",
       "         -2.2886, -2.3019],\n",
       "        [-2.2224, -2.3378, -2.3167, -2.3167, -2.3033, -2.3301, -2.2719, -2.3381,\n",
       "         -2.2687, -2.3266],\n",
       "        [-2.2510, -2.3328, -2.3020, -2.3064, -2.2888, -2.3140, -2.2814, -2.3491,\n",
       "         -2.2779, -2.3262],\n",
       "        [-2.2429, -2.3512, -2.3236, -2.3234, -2.3014, -2.3223, -2.2659, -2.3159,\n",
       "         -2.2821, -2.3018],\n",
       "        [-2.2371, -2.3493, -2.3021, -2.3208, -2.3250, -2.3151, -2.2768, -2.3191,\n",
       "         -2.2959, -2.2890],\n",
       "        [-2.2397, -2.3327, -2.3157, -2.3205, -2.2862, -2.3395, -2.2656, -2.3217,\n",
       "         -2.2838, -2.3252],\n",
       "        [-2.2430, -2.3486, -2.3072, -2.3043, -2.2750, -2.3227, -2.2617, -2.3550,\n",
       "         -2.2799, -2.3349],\n",
       "        [-2.2541, -2.3201, -2.3054, -2.3215, -2.2973, -2.3469, -2.2773, -2.3405,\n",
       "         -2.2673, -2.2998],\n",
       "        [-2.2521, -2.3261, -2.3027, -2.3137, -2.2871, -2.3433, -2.2849, -2.3420,\n",
       "         -2.2635, -2.3149],\n",
       "        [-2.2529, -2.3379, -2.3144, -2.2982, -2.3143, -2.3413, -2.2788, -2.3232,\n",
       "         -2.2694, -2.2992],\n",
       "        [-2.2167, -2.3455, -2.3031, -2.3413, -2.2893, -2.3338, -2.2809, -2.3150,\n",
       "         -2.2644, -2.3438],\n",
       "        [-2.2341, -2.3514, -2.2967, -2.3253, -2.2928, -2.3235, -2.2922, -2.3177,\n",
       "         -2.2551, -2.3432],\n",
       "        [-2.2252, -2.3464, -2.2854, -2.3211, -2.3024, -2.3324, -2.2897, -2.3169,\n",
       "         -2.2819, -2.3299],\n",
       "        [-2.2264, -2.3325, -2.3278, -2.3044, -2.2777, -2.3234, -2.2800, -2.3148,\n",
       "         -2.3008, -2.3433],\n",
       "        [-2.2255, -2.3365, -2.2923, -2.3202, -2.2873, -2.3395, -2.2957, -2.3092,\n",
       "         -2.2811, -2.3441],\n",
       "        [-2.2230, -2.3209, -2.3123, -2.3369, -2.2913, -2.3397, -2.2748, -2.3257,\n",
       "         -2.2780, -2.3293],\n",
       "        [-2.2216, -2.3503, -2.2932, -2.3037, -2.3143, -2.3472, -2.2784, -2.3271,\n",
       "         -2.2821, -2.3144],\n",
       "        [-2.2396, -2.3318, -2.3167, -2.3217, -2.2771, -2.3371, -2.2882, -2.3329,\n",
       "         -2.2746, -2.3107],\n",
       "        [-2.2324, -2.3531, -2.2965, -2.3163, -2.3149, -2.3270, -2.2773, -2.3282,\n",
       "         -2.2771, -2.3082],\n",
       "        [-2.2326, -2.3419, -2.3110, -2.3034, -2.3079, -2.3400, -2.2850, -2.3342,\n",
       "         -2.2779, -2.2969],\n",
       "        [-2.2333, -2.3478, -2.2981, -2.3070, -2.2665, -2.3453, -2.2673, -2.3419,\n",
       "         -2.2886, -2.3373],\n",
       "        [-2.2465, -2.3371, -2.3190, -2.3229, -2.2898, -2.3375, -2.2792, -2.3368,\n",
       "         -2.2623, -2.2997],\n",
       "        [-2.2286, -2.3235, -2.3167, -2.3206, -2.2791, -2.3619, -2.2783, -2.3174,\n",
       "         -2.2527, -2.3554],\n",
       "        [-2.2177, -2.3444, -2.3156, -2.3125, -2.2930, -2.3181, -2.3021, -2.3246,\n",
       "         -2.2625, -2.3419],\n",
       "        [-2.2363, -2.3535, -2.3124, -2.3220, -2.3114, -2.3067, -2.2843, -2.3153,\n",
       "         -2.2816, -2.3065],\n",
       "        [-2.2116, -2.3509, -2.2979, -2.3156, -2.2918, -2.3460, -2.2839, -2.3188,\n",
       "         -2.2748, -2.3422],\n",
       "        [-2.2509, -2.3244, -2.3215, -2.2931, -2.2977, -2.3268, -2.2853, -2.3370,\n",
       "         -2.2999, -2.2921],\n",
       "        [-2.2308, -2.3387, -2.3115, -2.3361, -2.2774, -2.3362, -2.2869, -2.3100,\n",
       "         -2.2651, -2.3396],\n",
       "        [-2.2374, -2.3578, -2.3172, -2.3180, -2.3177, -2.3265, -2.2561, -2.3056,\n",
       "         -2.2974, -2.2975],\n",
       "        [-2.2322, -2.3300, -2.3016, -2.3076, -2.2903, -2.3290, -2.2680, -2.3492,\n",
       "         -2.2982, -2.3251],\n",
       "        [-2.2230, -2.3549, -2.3104, -2.2940, -2.3054, -2.3448, -2.2630, -2.3278,\n",
       "         -2.2892, -2.3204],\n",
       "        [-2.2156, -2.3413, -2.3005, -2.3016, -2.2984, -2.3381, -2.2843, -2.3368,\n",
       "         -2.2839, -2.3319],\n",
       "        [-2.2299, -2.3662, -2.3036, -2.3131, -2.2764, -2.3520, -2.2784, -2.3296,\n",
       "         -2.2564, -2.3287],\n",
       "        [-2.2070, -2.3438, -2.3238, -2.3190, -2.3064, -2.3331, -2.2738, -2.3392,\n",
       "         -2.2731, -2.3147],\n",
       "        [-2.2134, -2.3756, -2.2950, -2.3185, -2.2991, -2.3186, -2.2949, -2.3286,\n",
       "         -2.2725, -2.3177],\n",
       "        [-2.2506, -2.3195, -2.3264, -2.3251, -2.2872, -2.3332, -2.2896, -2.3137,\n",
       "         -2.2668, -2.3172],\n",
       "        [-2.2486, -2.3266, -2.3268, -2.3371, -2.2808, -2.3440, -2.2689, -2.3203,\n",
       "         -2.2390, -2.3410],\n",
       "        [-2.2445, -2.3355, -2.3048, -2.3106, -2.2961, -2.3071, -2.2932, -2.3308,\n",
       "         -2.2807, -2.3260],\n",
       "        [-2.2331, -2.3434, -2.3076, -2.2970, -2.3105, -2.3367, -2.2978, -2.3396,\n",
       "         -2.2713, -2.2940],\n",
       "        [-2.2331, -2.3530, -2.3206, -2.3181, -2.2840, -2.3362, -2.2749, -2.3359,\n",
       "         -2.2671, -2.3092],\n",
       "        [-2.2406, -2.3655, -2.3175, -2.3282, -2.2980, -2.3337, -2.2518, -2.3212,\n",
       "         -2.2509, -2.3264],\n",
       "        [-2.2208, -2.3409, -2.3172, -2.3187, -2.3118, -2.3398, -2.2634, -2.3166,\n",
       "         -2.2745, -2.3289],\n",
       "        [-2.2266, -2.3247, -2.3246, -2.3015, -2.2681, -2.3199, -2.2866, -2.3597,\n",
       "         -2.2817, -2.3391],\n",
       "        [-2.2388, -2.3231, -2.3182, -2.3018, -2.2977, -2.3412, -2.2943, -2.3313,\n",
       "         -2.2922, -2.2910],\n",
       "        [-2.2233, -2.3373, -2.2886, -2.3582, -2.2811, -2.3375, -2.2520, -2.3311,\n",
       "         -2.2765, -2.3497],\n",
       "        [-2.2370, -2.3492, -2.3263, -2.2880, -2.3072, -2.3388, -2.2876, -2.3303,\n",
       "         -2.2975, -2.2694],\n",
       "        [-2.2472, -2.3378, -2.3340, -2.3068, -2.2921, -2.3059, -2.2971, -2.3208,\n",
       "         -2.2696, -2.3180],\n",
       "        [-2.2234, -2.3628, -2.3022, -2.3309, -2.2877, -2.3431, -2.2744, -2.3017,\n",
       "         -2.2567, -2.3518]], device='cuda:0', grad_fn=<LogSoftmaxBackward>)"
      ]
     },
     "execution_count": 17,
     "metadata": {},
     "output_type": "execute_result"
    }
   ],
   "source": [
    "model(a.to(device))"
   ]
  },
  {
   "cell_type": "code",
   "execution_count": 21,
   "metadata": {},
   "outputs": [
    {
     "ename": "RuntimeError",
     "evalue": "Expected object of type torch.cuda.LongTensor but found type torch.LongTensor for argument #2 'target'",
     "output_type": "error",
     "traceback": [
      "\u001b[0;31m---------------------------------------------------------------------------\u001b[0m",
      "\u001b[0;31mRuntimeError\u001b[0m                              Traceback (most recent call last)",
      "\u001b[0;32m<ipython-input-21-a9c0560e6492>\u001b[0m in \u001b[0;36m<module>\u001b[0;34m\u001b[0m\n\u001b[1;32m     11\u001b[0m         \u001b[0moptimizer\u001b[0m\u001b[0;34m.\u001b[0m\u001b[0mzero_grad\u001b[0m\u001b[0;34m(\u001b[0m\u001b[0;34m)\u001b[0m\u001b[0;34m\u001b[0m\u001b[0m\n\u001b[1;32m     12\u001b[0m \u001b[0;34m\u001b[0m\u001b[0m\n\u001b[0;32m---> 13\u001b[0;31m         \u001b[0mloss\u001b[0m \u001b[0;34m=\u001b[0m \u001b[0mcriterion\u001b[0m\u001b[0;34m(\u001b[0m\u001b[0mmodel\u001b[0m\u001b[0;34m(\u001b[0m\u001b[0mimages\u001b[0m\u001b[0;34m.\u001b[0m\u001b[0mto\u001b[0m\u001b[0;34m(\u001b[0m\u001b[0mdevice\u001b[0m\u001b[0;34m)\u001b[0m\u001b[0;34m)\u001b[0m\u001b[0;34m,\u001b[0m\u001b[0mlabels\u001b[0m\u001b[0;34m)\u001b[0m\u001b[0;34m\u001b[0m\u001b[0m\n\u001b[0m\u001b[1;32m     14\u001b[0m         \u001b[0mloss\u001b[0m\u001b[0;34m.\u001b[0m\u001b[0mbackward\u001b[0m\u001b[0;34m(\u001b[0m\u001b[0;34m)\u001b[0m\u001b[0;34m\u001b[0m\u001b[0m\n\u001b[1;32m     15\u001b[0m \u001b[0;34m\u001b[0m\u001b[0m\n",
      "\u001b[0;32m~/anaconda3/envs/ml_cuda/lib/python3.7/site-packages/torch/nn/modules/module.py\u001b[0m in \u001b[0;36m__call__\u001b[0;34m(self, *input, **kwargs)\u001b[0m\n\u001b[1;32m    475\u001b[0m             \u001b[0mresult\u001b[0m \u001b[0;34m=\u001b[0m \u001b[0mself\u001b[0m\u001b[0;34m.\u001b[0m\u001b[0m_slow_forward\u001b[0m\u001b[0;34m(\u001b[0m\u001b[0;34m*\u001b[0m\u001b[0minput\u001b[0m\u001b[0;34m,\u001b[0m \u001b[0;34m**\u001b[0m\u001b[0mkwargs\u001b[0m\u001b[0;34m)\u001b[0m\u001b[0;34m\u001b[0m\u001b[0m\n\u001b[1;32m    476\u001b[0m         \u001b[0;32melse\u001b[0m\u001b[0;34m:\u001b[0m\u001b[0;34m\u001b[0m\u001b[0m\n\u001b[0;32m--> 477\u001b[0;31m             \u001b[0mresult\u001b[0m \u001b[0;34m=\u001b[0m \u001b[0mself\u001b[0m\u001b[0;34m.\u001b[0m\u001b[0mforward\u001b[0m\u001b[0;34m(\u001b[0m\u001b[0;34m*\u001b[0m\u001b[0minput\u001b[0m\u001b[0;34m,\u001b[0m \u001b[0;34m**\u001b[0m\u001b[0mkwargs\u001b[0m\u001b[0;34m)\u001b[0m\u001b[0;34m\u001b[0m\u001b[0m\n\u001b[0m\u001b[1;32m    478\u001b[0m         \u001b[0;32mfor\u001b[0m \u001b[0mhook\u001b[0m \u001b[0;32min\u001b[0m \u001b[0mself\u001b[0m\u001b[0;34m.\u001b[0m\u001b[0m_forward_hooks\u001b[0m\u001b[0;34m.\u001b[0m\u001b[0mvalues\u001b[0m\u001b[0;34m(\u001b[0m\u001b[0;34m)\u001b[0m\u001b[0;34m:\u001b[0m\u001b[0;34m\u001b[0m\u001b[0m\n\u001b[1;32m    479\u001b[0m             \u001b[0mhook_result\u001b[0m \u001b[0;34m=\u001b[0m \u001b[0mhook\u001b[0m\u001b[0;34m(\u001b[0m\u001b[0mself\u001b[0m\u001b[0;34m,\u001b[0m \u001b[0minput\u001b[0m\u001b[0;34m,\u001b[0m \u001b[0mresult\u001b[0m\u001b[0;34m)\u001b[0m\u001b[0;34m\u001b[0m\u001b[0m\n",
      "\u001b[0;32m~/anaconda3/envs/ml_cuda/lib/python3.7/site-packages/torch/nn/modules/loss.py\u001b[0m in \u001b[0;36mforward\u001b[0;34m(self, input, target)\u001b[0m\n\u001b[1;32m    198\u001b[0m \u001b[0;34m\u001b[0m\u001b[0m\n\u001b[1;32m    199\u001b[0m     \u001b[0;32mdef\u001b[0m \u001b[0mforward\u001b[0m\u001b[0;34m(\u001b[0m\u001b[0mself\u001b[0m\u001b[0;34m,\u001b[0m \u001b[0minput\u001b[0m\u001b[0;34m,\u001b[0m \u001b[0mtarget\u001b[0m\u001b[0;34m)\u001b[0m\u001b[0;34m:\u001b[0m\u001b[0;34m\u001b[0m\u001b[0m\n\u001b[0;32m--> 200\u001b[0;31m         \u001b[0;32mreturn\u001b[0m \u001b[0mF\u001b[0m\u001b[0;34m.\u001b[0m\u001b[0mnll_loss\u001b[0m\u001b[0;34m(\u001b[0m\u001b[0minput\u001b[0m\u001b[0;34m,\u001b[0m \u001b[0mtarget\u001b[0m\u001b[0;34m,\u001b[0m \u001b[0mweight\u001b[0m\u001b[0;34m=\u001b[0m\u001b[0mself\u001b[0m\u001b[0;34m.\u001b[0m\u001b[0mweight\u001b[0m\u001b[0;34m,\u001b[0m \u001b[0mignore_index\u001b[0m\u001b[0;34m=\u001b[0m\u001b[0mself\u001b[0m\u001b[0;34m.\u001b[0m\u001b[0mignore_index\u001b[0m\u001b[0;34m,\u001b[0m \u001b[0mreduction\u001b[0m\u001b[0;34m=\u001b[0m\u001b[0mself\u001b[0m\u001b[0;34m.\u001b[0m\u001b[0mreduction\u001b[0m\u001b[0;34m)\u001b[0m\u001b[0;34m\u001b[0m\u001b[0m\n\u001b[0m\u001b[1;32m    201\u001b[0m \u001b[0;34m\u001b[0m\u001b[0m\n\u001b[1;32m    202\u001b[0m \u001b[0;34m\u001b[0m\u001b[0m\n",
      "\u001b[0;32m~/anaconda3/envs/ml_cuda/lib/python3.7/site-packages/torch/nn/functional.py\u001b[0m in \u001b[0;36mnll_loss\u001b[0;34m(input, target, weight, size_average, ignore_index, reduce, reduction)\u001b[0m\n\u001b[1;32m   1405\u001b[0m                          .format(input.size(0), target.size(0)))\n\u001b[1;32m   1406\u001b[0m     \u001b[0;32mif\u001b[0m \u001b[0mdim\u001b[0m \u001b[0;34m==\u001b[0m \u001b[0;36m2\u001b[0m\u001b[0;34m:\u001b[0m\u001b[0;34m\u001b[0m\u001b[0m\n\u001b[0;32m-> 1407\u001b[0;31m         \u001b[0;32mreturn\u001b[0m \u001b[0mtorch\u001b[0m\u001b[0;34m.\u001b[0m\u001b[0m_C\u001b[0m\u001b[0;34m.\u001b[0m\u001b[0m_nn\u001b[0m\u001b[0;34m.\u001b[0m\u001b[0mnll_loss\u001b[0m\u001b[0;34m(\u001b[0m\u001b[0minput\u001b[0m\u001b[0;34m,\u001b[0m \u001b[0mtarget\u001b[0m\u001b[0;34m,\u001b[0m \u001b[0mweight\u001b[0m\u001b[0;34m,\u001b[0m \u001b[0m_Reduction\u001b[0m\u001b[0;34m.\u001b[0m\u001b[0mget_enum\u001b[0m\u001b[0;34m(\u001b[0m\u001b[0mreduction\u001b[0m\u001b[0;34m)\u001b[0m\u001b[0;34m,\u001b[0m \u001b[0mignore_index\u001b[0m\u001b[0;34m)\u001b[0m\u001b[0;34m\u001b[0m\u001b[0m\n\u001b[0m\u001b[1;32m   1408\u001b[0m     \u001b[0;32melif\u001b[0m \u001b[0mdim\u001b[0m \u001b[0;34m==\u001b[0m \u001b[0;36m4\u001b[0m\u001b[0;34m:\u001b[0m\u001b[0;34m\u001b[0m\u001b[0m\n\u001b[1;32m   1409\u001b[0m         \u001b[0;32mreturn\u001b[0m \u001b[0mtorch\u001b[0m\u001b[0;34m.\u001b[0m\u001b[0m_C\u001b[0m\u001b[0;34m.\u001b[0m\u001b[0m_nn\u001b[0m\u001b[0;34m.\u001b[0m\u001b[0mnll_loss2d\u001b[0m\u001b[0;34m(\u001b[0m\u001b[0minput\u001b[0m\u001b[0;34m,\u001b[0m \u001b[0mtarget\u001b[0m\u001b[0;34m,\u001b[0m \u001b[0mweight\u001b[0m\u001b[0;34m,\u001b[0m \u001b[0m_Reduction\u001b[0m\u001b[0;34m.\u001b[0m\u001b[0mget_enum\u001b[0m\u001b[0;34m(\u001b[0m\u001b[0mreduction\u001b[0m\u001b[0;34m)\u001b[0m\u001b[0;34m,\u001b[0m \u001b[0mignore_index\u001b[0m\u001b[0;34m)\u001b[0m\u001b[0;34m\u001b[0m\u001b[0m\n",
      "\u001b[0;31mRuntimeError\u001b[0m: Expected object of type torch.cuda.LongTensor but found type torch.LongTensor for argument #2 'target'"
     ]
    }
   ],
   "source": [
    "# TODO: Train the network here\n",
    "epochs=10\n",
    "\n",
    "\n",
    "for n_ep in range(epochs):\n",
    "    train_data=iter(trainloader)\n",
    "    epoch_loss=0\n",
    "    for images,labels in train_data:\n",
    "#         images = images.view(images.shape[0],-1)\n",
    "        \n",
    "        optimizer.zero_grad()\n",
    "        \n",
    "        loss = criterion(model(images.to(device)),labels)\n",
    "        loss.backward()\n",
    "        \n",
    "        optimizer.step()\n",
    "        \n",
    "        epoch_loss+=loss\n",
    "    print(f\"Epoch {n_ep}, loss: {epoch_loss/len(train_data)}\")\n",
    "        "
   ]
  },
  {
   "cell_type": "code",
   "execution_count": 98,
   "metadata": {},
   "outputs": [
    {
     "data": {
      "image/png": "[encoded data removed]",
      "text/plain": [
       "<Figure size 432x648 with 2 Axes>"
      ]
     },
     "metadata": {
      "image/png": {
       "height": 206,
       "width": 423
      },
      "needs_background": "light"
     },
     "output_type": "display_data"
    }
   ],
   "source": [
    "%matplotlib inline\n",
    "%config InlineBackend.figure_format = 'retina'\n",
    "\n",
    "import helper\n",
    "\n",
    "# Test out your network!\n",
    "\n",
    "dataiter = iter(testloader)\n",
    "images, labels = dataiter.next()\n",
    "img = images[0]\n",
    "# Convert 2D image to 1D vector\n",
    "img = img.resize_(1,1, 28,28)\n",
    "\n",
    "# TODO: Calculate the class probabilities (softmax) for img\n",
    "ps = torch.exp(model(img))\n",
    "\n",
    "# Plot the image and probabilities\n",
    "helper.view_classify(img.resize_(1, 28, 28), ps, version='Fashion')"
   ]
  },
  {
   "cell_type": "code",
   "execution_count": null,
   "metadata": {},
   "outputs": [],
   "source": []
  }
 ],
 "metadata": {
  "kernelspec": {
   "display_name": "Python 3",
   "language": "python",
   "name": "python3"
  },
  "language_info": {
   "codemirror_mode": {
    "name": "ipython",
    "version": 3
   },
   "file_extension": ".py",
   "mimetype": "text/x-python",
   "name": "python",
   "nbconvert_exporter": "python",
   "pygments_lexer": "ipython3",
   "version": "3.7.0"
  }
 },
 "nbformat": 4,
 "nbformat_minor": 2
}
